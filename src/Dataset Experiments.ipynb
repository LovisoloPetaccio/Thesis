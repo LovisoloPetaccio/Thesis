{
 "cells": [
  {
   "cell_type": "code",
   "execution_count": 98,
   "metadata": {},
   "outputs": [],
   "source": [
    "import glob\n",
    "from Bio import SeqIO\n",
    "import maximal_repeats as mr\n",
    "import multiprocessing\n",
    "import timeit\n",
    "from threading import Lock\n",
    "FASTA_PATTERN = \"../data/proteins/familyDataset/**/*.fasta\"\n",
    "DEBUG = False"
   ]
  },
  {
   "cell_type": "code",
   "execution_count": 86,
   "metadata": {},
   "outputs": [],
   "source": [
    "def find_max_record_length():\n",
    "  max_len = 0\n",
    "  max_len_id = \"\"\n",
    "  max_filename = \"\"\n",
    "  i = 0\n",
    "\n",
    "  for filename in glob.iglob(FASTA_PATTERN):\n",
    "    for seq_record in SeqIO.parse(filename, \"fasta\"):\n",
    "      i += 1\n",
    "      if len(seq_record) > max_len:\n",
    "        max_len = len(seq_record)\n",
    "        max_len_id = seq_record.id\n",
    "        max_filename = filename\n",
    "      if DEBUG:\n",
    "        if i % 1000 == 0:\n",
    "          print(\"%d %s\" % (i, str(seq_record)))\n",
    "          print(\"max_len = %d\" % max_len)\n",
    "          print(\"max_len_id = %s\" % max_len_id)\n",
    "\n",
    "  print (\"%d records parsed. Max record length: %d, id: %s in filename %s.\" % \\\n",
    "      (i, max_len, max_len_id, max_filename))"
   ]
  },
  {
   "cell_type": "code",
   "execution_count": 62,
   "metadata": {},
   "outputs": [
    {
     "name": "stdout",
     "output_type": "stream",
     "text": [
      "1044024 records parsed. Max record length: 32298, id: UniRef90_G1L1P3 in filename ../data/proteins/familyDataset/mix/G1L1P3.fasta.\n"
     ]
    }
   ],
   "source": [
    "find_max_record_length()"
   ]
  },
  {
   "cell_type": "markdown",
   "metadata": {},
   "source": [
    "### Time to execute largest protein sequence"
   ]
  },
  {
   "cell_type": "code",
   "execution_count": 106,
   "metadata": {},
   "outputs": [
    {
     "name": "stdout",
     "output_type": "stream",
     "text": [
      "0.29549303324893117\n"
     ]
    }
   ],
   "source": [
    "for i in SeqIO.parse(\"../data/proteins/familyDataset/mix/G1L1P3.fasta\", \"fasta\"):\n",
    "  print(timeit.timeit('mr.maximal_repeats(str(i.seq))', number=20, globals=globals())/20)"
   ]
  },
  {
   "cell_type": "code",
   "execution_count": null,
   "metadata": {},
   "outputs": [],
   "source": []
  }
 ],
 "metadata": {
  "kernelspec": {
   "display_name": "Python 3",
   "language": "python",
   "name": "python3"
  },
  "language_info": {
   "codemirror_mode": {
    "name": "ipython",
    "version": 3
   },
   "file_extension": ".py",
   "mimetype": "text/x-python",
   "name": "python",
   "nbconvert_exporter": "python",
   "pygments_lexer": "ipython3",
   "version": "3.6.2"
  }
 },
 "nbformat": 4,
 "nbformat_minor": 2
}
